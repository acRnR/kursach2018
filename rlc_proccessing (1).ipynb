{
 "cells": [
  {
   "cell_type": "code",
   "execution_count": 1,
   "metadata": {
    "collapsed": true,
    "deletable": true,
    "editable": true
   },
   "outputs": [],
   "source": [
    "%matplotlib inline\n",
    "import pandas as pd\n",
    "import numpy as np\n",
    "import matplotlib.pyplot as plt"
   ]
  },
  {
   "cell_type": "code",
   "execution_count": 2,
   "metadata": {
    "collapsed": false,
    "deletable": true,
    "editable": true
   },
   "outputs": [
    {
     "data": {
      "text/html": [
       "<div>\n",
       "<table border=\"1\" class=\"dataframe\">\n",
       "  <thead>\n",
       "    <tr style=\"text-align: right;\">\n",
       "      <th></th>\n",
       "      <th>Название текста</th>\n",
       "      <th>Язык</th>\n",
       "      <th>Русский язык</th>\n",
       "      <th>Уровень</th>\n",
       "      <th>Год</th>\n",
       "      <th>Оригинальное предложение</th>\n",
       "      <th>союз</th>\n",
       "      <th>группа</th>\n",
       "      <th>расположение частей</th>\n",
       "      <th>подлеж гл</th>\n",
       "      <th>подлеж прид</th>\n",
       "      <th>падеж гл</th>\n",
       "      <th>падеж прид</th>\n",
       "      <th>лицочисло</th>\n",
       "    </tr>\n",
       "  </thead>\n",
       "  <tbody>\n",
       "    <tr>\n",
       "      <th>0</th>\n",
       "      <td>expository (non-timed, paragraph, Capstone)</td>\n",
       "      <td>eng</td>\n",
       "      <td>FL</td>\n",
       "      <td>AM</td>\n",
       "      <td>2011</td>\n",
       "      <td>Я выучила японский язык на слух {{пока}} я там...</td>\n",
       "      <td>пока</td>\n",
       "      <td>время</td>\n",
       "      <td>гп</td>\n",
       "      <td>мест</td>\n",
       "      <td>мест</td>\n",
       "      <td>и</td>\n",
       "      <td>и</td>\n",
       "      <td>1ед</td>\n",
       "    </tr>\n",
       "    <tr>\n",
       "      <th>1</th>\n",
       "      <td>paraphrase (non-timed, sentence, On Democracy)</td>\n",
       "      <td>eng</td>\n",
       "      <td>FL</td>\n",
       "      <td>IH</td>\n",
       "      <td>2009-2010</td>\n",
       "      <td>Купец, {{пока}} он ездил вокруг мира, потратил...</td>\n",
       "      <td>пока</td>\n",
       "      <td>время</td>\n",
       "      <td>гпг</td>\n",
       "      <td>сущ</td>\n",
       "      <td>мест</td>\n",
       "      <td>и</td>\n",
       "      <td>и</td>\n",
       "      <td>3ед</td>\n",
       "    </tr>\n",
       "    <tr>\n",
       "      <th>2</th>\n",
       "      <td>paraphrase (non-timed, paragraph, Globalization)</td>\n",
       "      <td>eng</td>\n",
       "      <td>HL</td>\n",
       "      <td>IH</td>\n",
       "      <td>2011-2012</td>\n",
       "      <td>И {{пока}} вы ждёте своего заказа, вы слушаете...</td>\n",
       "      <td>пока</td>\n",
       "      <td>время</td>\n",
       "      <td>пг</td>\n",
       "      <td>мест</td>\n",
       "      <td>мест</td>\n",
       "      <td>и</td>\n",
       "      <td>и</td>\n",
       "      <td>2мн</td>\n",
       "    </tr>\n",
       "    <tr>\n",
       "      <th>3</th>\n",
       "      <td>expository (non-timed, paragraph, Capstone)</td>\n",
       "      <td>eng</td>\n",
       "      <td>FL</td>\n",
       "      <td>AL</td>\n",
       "      <td>2012-2013</td>\n",
       "      <td>Поскольку я в Нижнем не надолго, мне надо полу...</td>\n",
       "      <td>пока</td>\n",
       "      <td>время</td>\n",
       "      <td>гп</td>\n",
       "      <td>мест</td>\n",
       "      <td>мест</td>\n",
       "      <td>д</td>\n",
       "      <td>и</td>\n",
       "      <td>1ед</td>\n",
       "    </tr>\n",
       "    <tr>\n",
       "      <th>4</th>\n",
       "      <td>description (non-timed, paragraph, Environment...</td>\n",
       "      <td>eng</td>\n",
       "      <td>FL</td>\n",
       "      <td>AL</td>\n",
       "      <td>2012-2013</td>\n",
       "      <td>Кроме того, грунтовая вода важна тем, что, {{п...</td>\n",
       "      <td>пока</td>\n",
       "      <td>время</td>\n",
       "      <td>пг</td>\n",
       "      <td>мест</td>\n",
       "      <td>мест</td>\n",
       "      <td>и</td>\n",
       "      <td>и</td>\n",
       "      <td>3ед</td>\n",
       "    </tr>\n",
       "  </tbody>\n",
       "</table>\n",
       "</div>"
      ],
      "text/plain": [
       "                                     Название текста Язык Русский язык  \\\n",
       "0        expository (non-timed, paragraph, Capstone)  eng           FL   \n",
       "1     paraphrase (non-timed, sentence, On Democracy)  eng           FL   \n",
       "2   paraphrase (non-timed, paragraph, Globalization)  eng           HL   \n",
       "3        expository (non-timed, paragraph, Capstone)  eng           FL   \n",
       "4  description (non-timed, paragraph, Environment...  eng           FL   \n",
       "\n",
       "  Уровень        Год                           Оригинальное предложение  союз  \\\n",
       "0      AM       2011  Я выучила японский язык на слух {{пока}} я там...  пока   \n",
       "1      IH  2009-2010  Купец, {{пока}} он ездил вокруг мира, потратил...  пока   \n",
       "2      IH  2011-2012  И {{пока}} вы ждёте своего заказа, вы слушаете...  пока   \n",
       "3      AL  2012-2013  Поскольку я в Нижнем не надолго, мне надо полу...  пока   \n",
       "4      AL  2012-2013  Кроме того, грунтовая вода важна тем, что, {{п...  пока   \n",
       "\n",
       "  группа расположение частей подлеж гл подлеж прид падеж гл падеж прид  \\\n",
       "0  время                  гп      мест        мест        и          и   \n",
       "1  время                 гпг       сущ        мест        и          и   \n",
       "2  время                  пг      мест        мест        и          и   \n",
       "3  время                  гп      мест        мест        д          и   \n",
       "4  время                  пг      мест        мест        и          и   \n",
       "\n",
       "  лицочисло  \n",
       "0       1ед  \n",
       "1       3ед  \n",
       "2       2мн  \n",
       "3       1ед  \n",
       "4       3ед  "
      ]
     },
     "execution_count": 2,
     "metadata": {},
     "output_type": "execute_result"
    }
   ],
   "source": [
    "df = pd.read_csv(\"D:/razmecheno.csv\", sep=';')\n",
    "df.head()"
   ]
  },
  {
   "cell_type": "code",
   "execution_count": 3,
   "metadata": {
    "collapsed": true,
    "deletable": true,
    "editable": true
   },
   "outputs": [],
   "source": [
    "cols = list(df.columns)"
   ]
  },
  {
   "cell_type": "code",
   "execution_count": 4,
   "metadata": {
    "collapsed": true,
    "deletable": true,
    "editable": true
   },
   "outputs": [],
   "source": [
    "f = open('rlc_data1.csv', 'w', encoding='UTF-8')\n",
    "f.write('conj;main;subordinate;sum\\n')\n",
    "f.close()"
   ]
  },
  {
   "cell_type": "code",
   "execution_count": 5,
   "metadata": {
    "collapsed": true,
    "deletable": true,
    "editable": true
   },
   "outputs": [],
   "source": [
    "def clear_nan (lll):\n",
    "    for www in lll:\n",
    "        if type(www) == float:\n",
    "            lll.remove(www)\n",
    "            #print('kek')\n",
    "            break\n",
    "    #print(lll)\n",
    "    return lll"
   ]
  },
  {
   "cell_type": "code",
   "execution_count": 6,
   "metadata": {
    "collapsed": true,
    "deletable": true,
    "editable": true
   },
   "outputs": [],
   "source": [
    "def levelclean(ls, lin):\n",
    "    for elem in ls:\n",
    "        if ((df['Язык']==lin)&(df['Уровень']==elem)).sum() == 0:\n",
    "            print('yes')\n",
    "            ls.remove(elem)\n",
    "    return ls"
   ]
  },
  {
   "cell_type": "code",
   "execution_count": 6,
   "metadata": {
    "collapsed": true,
    "deletable": true,
    "editable": true
   },
   "outputs": [],
   "source": [
    "#lingua = clear_nan(list(set(df['Язык'])))\n",
    "#russo = clear_nan(list(set(df['Русский язык'])))\n",
    "#lvl = clear_nan(list(set(df['Уровень'])))\n",
    "#gruppo = clear_nan(list(set(df['группа'])))\n",
    "#ordine = clear_nan(list(set(df['расположение частей'])))\n",
    "congiu = clear_nan(list(set(df['союз'])))\n",
    "principale = clear_nan(list(set(df['подлеж гл'])))\n",
    "inferiore = clear_nan(list(set(df['подлеж прид'])))"
   ]
  },
  {
   "cell_type": "code",
   "execution_count": 7,
   "metadata": {
    "collapsed": true,
    "deletable": true,
    "editable": true
   },
   "outputs": [],
   "source": [
    "def write_data(namae, numero):\n",
    "    fl = open('rlc_data1.csv', 'a', encoding='UTF-8')\n",
    "    fl.write(namae + ';' + numero + '\\n')\n",
    "    fl.close"
   ]
  },
  {
   "cell_type": "code",
   "execution_count": 8,
   "metadata": {
    "collapsed": true,
    "deletable": true,
    "editable": true
   },
   "outputs": [],
   "source": [
    "def all_calculations(cj, mc, sc):\n",
    "    #print(lang, rus)\n",
    "    nome = cj + ';' + mc + ';' + sc\n",
    "    #print (nome, type(nome))\n",
    "    nombre = ((df['союз']==cj)&(df['подлеж гл']==mc)&(df['подлеж прид']==sc)).sum()\n",
    "    write_data(nome, str(nombre))\n",
    "    #all_calc[nome] = nombre\n",
    "    #print('..', end=' ')"
   ]
  },
  {
   "cell_type": "code",
   "execution_count": 9,
   "metadata": {
    "collapsed": false,
    "deletable": true,
    "editable": true
   },
   "outputs": [
    {
     "name": "stdout",
     "output_type": "stream",
     "text": [
      "хотя\n",
      "потому что\n",
      "перед тем как\n",
      "после того как\n",
      "что\n",
      "так что\n",
      "из-за того что\n",
      "как будто\n",
      "как только\n",
      "так как\n",
      "пока\n",
      "будто\n",
      "если\n",
      "несмотря на то что\n",
      "когда\n",
      "как\n"
     ]
    }
   ],
   "source": [
    "for jjj in congiu:\n",
    "    #livello = thedict[la]\n",
    "  #  for ru in russo:\n",
    "   #     for le in livello:\n",
    "    #        for ccg in gruppo:\n",
    "     #           for orrd in ordine:\n",
    "    for mmc in principale:\n",
    "        for ssc in inferiore:\n",
    "            all_calculations(jjj, mmc, ssc)\n",
    "    print(jjj)"
   ]
  },
  {
   "cell_type": "code",
   "execution_count": 10,
   "metadata": {
    "collapsed": false,
    "deletable": true,
    "editable": true
   },
   "outputs": [
    {
     "name": "stdout",
     "output_type": "stream",
     "text": [
      "{'ita': ['IH', 'Other', 'B1', 'B2', 'AM', '2013'], 'nor': ['IH', 'C1', 'B1', 'AM'], 'jap': ['IM', 'IH', 'AL', 'NH', 'B1'], 'eng': ['IM', 'IL', 'IH', 'AL', 'Other', 'A2', 'NH', 'C2', 'NL', 'B1', 'AM', 'AH'], 'swe': ['NM', 'IM', 'IL', 'IH', 'NH', 'NL', 'AM', 'AH'], 'chi': ['IM', 'C1', 'C2', 'B1'], 'kor': ['Other', 'AH'], 'kaz': ['IM', 'IL', 'IH', 'AL', 'NH', 'AM'], 'ger': ['IM', 'IL', 'AL', 'Other', 'A2', 'C1', 'C2', 'B1', 'B2', 'AM', 'AH'], 'dut': ['IH', 'A2', 'B1'], 'ser': ['NM', 'A2', 'B1', 'B2', '2013'], 'fin': ['IH', 'Other', 'C1', 'C2', 'B1', 'B2', 'AM'], 'fr': ['A1', 'A2', 'C1', 'C2', 'B1', 'B2']}\n"
     ]
    }
   ],
   "source": [
    "thedict = {}\n",
    "for lili in lingua:\n",
    "    nabor = []\n",
    "    for lele in lvl:\n",
    "        symma = ((df['Язык']==lili)&(df['Уровень']==lele)).sum()\n",
    "        #print(symma)\n",
    "        if symma != 0:\n",
    "            nabor.append(lele)\n",
    "            #print('yes')\n",
    "    thedict[lili] = nabor\n",
    "print(thedict)"
   ]
  },
  {
   "cell_type": "code",
   "execution_count": 11,
   "metadata": {
    "collapsed": true,
    "deletable": true,
    "editable": true
   },
   "outputs": [],
   "source": [
    "def ruordmcsc(rus, ordr, mc, sc):\n",
    "    #print(lang, rus)\n",
    "    nome = rus  + ';' + ordr + ';' + mc + ';' + sc\n",
    "    #print (nome, type(nome))\n",
    "    nombre = ((df['Русский язык']==rus)&(df['расположение частей']==ordr)&(df['подлеж гл']==mc)&(df['подлеж прид']==sc)).sum()\n",
    "    write_data(nome, str(nombre))"
   ]
  },
  {
   "cell_type": "code",
   "execution_count": 12,
   "metadata": {
    "collapsed": false,
    "deletable": true,
    "editable": true
   },
   "outputs": [
    {
     "name": "stdout",
     "output_type": "stream",
     "text": [
      "HL гпг\n",
      "HL гп\n",
      "HL г_п\n",
      "HL п_г\n",
      "HL пг\n",
      "FL гпг\n",
      "FL гп\n",
      "FL г_п\n",
      "FL п_г\n",
      "FL пг\n"
     ]
    }
   ],
   "source": [
    "#for la in lingua:\n",
    "    #livello = thedict[la]\n",
    "for ru in russo:\n",
    "        #for le in livello:\n",
    "    #for ccg in gruppo:\n",
    "    for orrd in ordine:\n",
    "        for mmc in principale:\n",
    "            for ssc in inferiore:\n",
    "                ruordmcsc(ru, orrd, mmc, ssc)\n",
    "        print(ru, orrd)"
   ]
  },
  {
   "cell_type": "code",
   "execution_count": null,
   "metadata": {
    "collapsed": true,
    "deletable": true,
    "editable": true
   },
   "outputs": [],
   "source": []
  }
 ],
 "metadata": {
  "kernelspec": {
   "display_name": "Python 3",
   "language": "python",
   "name": "python3"
  },
  "language_info": {
   "codemirror_mode": {
    "name": "ipython",
    "version": 3
   },
   "file_extension": ".py",
   "mimetype": "text/x-python",
   "name": "python",
   "nbconvert_exporter": "python",
   "pygments_lexer": "ipython3",
   "version": "3.5.2"
  }
 },
 "nbformat": 4,
 "nbformat_minor": 2
}
